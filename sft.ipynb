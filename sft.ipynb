{
 "cells": [
  {
   "cell_type": "code",
   "execution_count": 1,
   "id": "5d8c0d93",
   "metadata": {},
   "outputs": [],
   "source": [
    "import sys\n",
    "sys.path.insert(0, './src')\n",
    "from src.sfttrainer import ModelConfig, Sft_trainer"
   ]
  },
  {
   "cell_type": "code",
   "execution_count": 2,
   "id": "ffe00e6c",
   "metadata": {},
   "outputs": [],
   "source": [
    "dataset_name = \"eurlex-4k\"\n",
    "model_name = \"unsloth/Llama-3.2-3B-Instruct\"\n",
    "data_dir = f\"xmc-base/{dataset_name}/\""
   ]
  },
  {
   "cell_type": "code",
   "execution_count": 3,
   "id": "deb3efaf",
   "metadata": {},
   "outputs": [],
   "source": [
    "model_config = ModelConfig(\n",
    "        model_name=model_name,\n",
    "        output_dir=f\"./output/{dataset_name}/{model_name}\",\n",
    "        prompt_template=\"Summarize this paragraph by keyphrases: {document}\\n\",\n",
    "        max_new_tokens=128,  # 生成的最大新令牌数\n",
    "        batch_size=4,\n",
    "        learning_rate=2e-4,\n",
    "        warmup_steps=100,\n",
    "        warmup_ratio=0.1,\n",
    "        num_epochs=4,\n",
    "        use_tensorboard=True,\n",
    "        lora_r=16,\n",
    "        lora_alpha=32,\n",
    "        lora_dropout=0.1,\n",
    "        use_quantization=False,  # 是否使用量化\n",
    "        quantization_type=\"int4\"  # 可选: \"int4\", \"int8\", \"fp16\", \"fp32\"\n",
    "    )"
   ]
  },
  {
   "cell_type": "code",
   "execution_count": 4,
   "id": "ec2e0001",
   "metadata": {},
   "outputs": [
    {
     "name": "stdout",
     "output_type": "stream",
     "text": [
      "Initializing SFTTrainer with model: unsloth/Llama-3.2-3B-Instruct\n",
      "Data directory: xmc-base/eurlex-4k/\n"
     ]
    },
    {
     "data": {
      "application/vnd.jupyter.widget-view+json": {
       "model_id": "7a5edd9a9c76473680006c5d40795cad",
       "version_major": 2,
       "version_minor": 0
      },
      "text/plain": [
       "Loading checkpoint shards:   0%|          | 0/2 [00:00<?, ?it/s]"
      ]
     },
     "metadata": {},
     "output_type": "display_data"
    },
    {
     "name": "stdout",
     "output_type": "stream",
     "text": [
      "Starting SFT training...\n",
      "Loading dataset from:  xmc-base/eurlex-4k/\n",
      "Dataset loaded successfully\n"
     ]
    },
    {
     "data": {
      "application/vnd.jupyter.widget-view+json": {
       "model_id": "2645f3741bbd4b5d885451a11ab46e8a",
       "version_major": 2,
       "version_minor": 0
      },
      "text/plain": [
       "Map:   0%|          | 0/15449 [00:00<?, ? examples/s]"
      ]
     },
     "metadata": {},
     "output_type": "display_data"
    },
    {
     "data": {
      "application/vnd.jupyter.widget-view+json": {
       "model_id": "32bd5606ce4545a5bf90378e3f8b5ed4",
       "version_major": 2,
       "version_minor": 0
      },
      "text/plain": [
       "Map:   0%|          | 0/3865 [00:00<?, ? examples/s]"
      ]
     },
     "metadata": {},
     "output_type": "display_data"
    },
    {
     "data": {
      "application/vnd.jupyter.widget-view+json": {
       "model_id": "eb694af311344c6187a87a580c6d0007",
       "version_major": 2,
       "version_minor": 0
      },
      "text/plain": [
       "Map:   0%|          | 0/15449 [00:00<?, ? examples/s]"
      ]
     },
     "metadata": {},
     "output_type": "display_data"
    },
    {
     "data": {
      "application/vnd.jupyter.widget-view+json": {
       "model_id": "979e778e47754f2a8b3c45a0a929737a",
       "version_major": 2,
       "version_minor": 0
      },
      "text/plain": [
       "Map:   0%|          | 0/3865 [00:00<?, ? examples/s]"
      ]
     },
     "metadata": {},
     "output_type": "display_data"
    },
    {
     "name": "stdout",
     "output_type": "stream",
     "text": [
      "check batch sample\n",
      "sample['text']: Summarize this paragraph by keyphrases: decis ec european parliament council establish multiannu commun programm promot safer internet onlin technolog text eea relev european parliament council european union regard treati establish european commun articl thereof regard propos commiss regard opinion european econom social committe consult committe region act accord procedur laid articl treati internet penetr technolog mobil phone grow consider commun alongsid danger children abus technolog continu exist danger abus emerg order encourag exploit opportun offer internet onlin technolog measur need promot safer protect end user unwant content eeurop action plan develop lisbon strategi aim stimul secur servic applic content base wide broadband infrastructur object secur inform infrastructur develop analysi dissemin practic benchmark coordin mechan polici legisl framework establish commun level deal challeng digit content inform societi includ rule relat onlin servic notabl unsolicit commerci mail direct privaci electron commun import aspect liabil intermediari servic provid direct electron commerc recommend member state industri parti concern commiss indic guidelin protect minor recommend ec continu action area content potenti harm children unwant end user area illeg content child pornographi racist materi reach intern agreement legal bind basic rule desir easili achiev agreement reach ensur rule implement risk protect safer internet action plan adopt decis ec provid commun financ successfulli encourag varieti initi european ad fund initi build work accomplish practic measur need encourag report illeg content posit deal encourag assess perform filter technolog benchmark technolog spread practic code conduct embodi gener agre canon behaviour inform educ parent children benefit potenti onlin technolog safe action member state level involv wide rang actor nation region local govern network oper parent teacher school administr essenti commun stimul practic member state carri orient role european union internation provid support european level benchmark network appli research intern cooper essenti stimul coordin relai implement action commun network structur measur commiss empow adopt implement power confer decis essenti manag measur relat implement programm substanti budgetari implic mean articl council decis ec june lai procedur exercis implement power confer commiss measur adopt accord manag procedur provid articl decis commiss ensur complementar synergi relat commun initi programm includ inter alia take account work perform bodi decis lai entir durat programm financi framework constitut prime refer mean point interinstitut agreement european parliament council commiss budgetari disciplin improv budgetari procedur budgetari author annual budgetari procedur object decis promot safer internet onlin technolog fight illeg content content unwant end user suffici achiev member state ow transnat charact issu stake reason european scale effect action achiev commun level commun adopt measur accord principl subsidiar set articl treati accord principl proportion set articl decis order achiev object decis respect fundament right observ principl reflect charter fundament right european union articl thereof decid articl object programm decis establish commun programm period promot safer internet onlin technolog children fight illeg content content unwant end user programm quot safer internet quot programm hereinaft programm order attain aim programm refer paragraph action address fight illeg content tackl unwant harm content promot safer environ awar rais activ carri action set annex programm implement accord annex iii articl particip particip programm open legal entiti establish member state particip open legal entiti establish candid countri accord bilater agreement exist conclud countri particip programm open legal entiti establish efta state contract parti eea agreement accord provis protocol agreement particip programm open financi support commun programm legal entiti establish countri intern organis particip contribut effect implement programm decis particip adopt accord procedur refer articl articl compet commiss commiss respons implement programm commiss draw work programm basi decis implement programm commiss close cooper member state ensur gener consist complementari relev commun polici programm action commun research technolog develop programm daphn ii modini econtentplu programm commiss act accord procedur refer articl purpos adopt modif work programm breakdown budgetari expenditur determin criteria content call propos accord object set articl assess project propos call propos commun fund estim commun contribut equal eur departur rule set annex iii implement measur evalu programm commiss inform committe refer articl progress implement programm articl committe commiss assist committe refer made paragraph articl decis ec appli regard provis articl thereof period laid articl decis ec set month committe adopt rule procedur articl monitor evalu order ensur commun aid effici commiss ensur action decis subject prior apprais follow subsequ evalu commiss monitor implement project programm commiss evalu manner project carri impact implement order assess origin object achiev commiss report implement action refer articl european parliament council european econom social committe committe region mid latest context commiss report consist amount financi perspect applic commiss step budgetari procedur ensur consist annual appropri financi perspect commiss submit final evalu report end programm commiss forward result quantit qualit evalu european parliament council propos amend decis result forward present draft gener budget european union year articl financi provis financi framework implement commun action decis period januari decemb set eur million eur period decemb period decemb amount deem confirm consist phase financi perspect forc period commenc annual appropri period authoris budgetari author limit financi perspect indic breakdown expenditur annex ii articl entri forc decis enter forc date public offici journal european union strasbourg european parliament presid borrel fontel council presid schmit opinion decemb publish offici journal opinion european parliament decemb publish offici journal council decis april direct ec european parliament council juli process person data protect privaci electron commun sector oj direct ec european parliament council june legal aspect inform societi servic electron commerc intern market oj council recommend ec septemb develop competit european audiovisu inform servic industri promot nation framework aim achiev compar effect level protect minor human digniti oj decis ec european parliament council januari adopt multiannu commun action plan promot safer internet onlin technolog combat illeg harm content primarili area protect children minor oj decis amend decis ec oj oj oj agreement amend decis ec european parliament council oj decis ec european parliament council april adopt programm commun action prevent combat violenc children young peopl women protect victim group risk daphn ii programm oj decis ec european parliament council novemb adopt multiannu programm monitor eeurop action plan dissemin good practic improv network inform secur modini oj decis amend decis ec decis ec european parliament council march establish multiannu commun programm make digit content europ access usabl exploit oj annex action action fight illeg content hotlin member public report illeg content pass report bodi internet servic provid isp polic correspond hotlin action civilian hotlin complement polic hotlin exist role distinct law enforc author investig offenc arrest prosecut offend constitut centr expertis provid guidanc isp content illeg exist hotlin network uniqu structur set commun fund point evalu report safer internet action plan network success expand membership intern reach order hotlin develop full potenti ensur europ wide coverag cooper increas effect exchang inform practic experi commun fund rais public awar hotlin make effect fund provid hotlin select call propos act node network cooper node european network hotlin telephon helplin support children rais concern illeg harm content internet purpos evalu effect hotlin indic account qualit quantit data collect establish oper hotlin number nation node geograph coverag member state number report receiv number level experi hotlin staff report forward action public author isp extent action result number kind web page withdrawn isp result inform provid hotlin data made public forward compet author ensur programm effect hotlin requir member state candid countri exist hotlin incorpor quickli effect exist european network hotlin incent speed process set hotlin link network hotlin countri european countri illeg content host produc promot enabl common approach develop practic transfer accord nation legisl mechan cooper civilian hotlin law enforc author improv includ develop code conduct hotlin hotlin staff receiv legal technic train activ particip hotlin network cross border activ mandatori hotlin link member state initi support nation level financi viabl ensur continu oper durat programm fund intend civilian hotlin provid hotlin run polic hotlin make clear user differ activ public author inform exist altern wai report illeg content order achiev maximum impact effect fund hotlin network oper effici achiev assign coordin node network facilit agreement hotlin develop european level guidelin work method practic respect limit nation law appli individu hotlin coordin node promot network gener european level visibl rais public awar thereof european union provid singl ident entri point give straightforward access nation contact make contact bodi view complet network coverag member state candid countri improv oper effect network draw practic guidelin hotlin adapt technolog organis regular exchang inform experi hotlin provid pool expertis advic coach process start hotlin candid countri ensur liaison hotlin countri maintain close work relationship awar rais coordin node point ensur cohes effect programm oper increas public awar hotlin particip safer internet forum relev event coordin input feedback hotlin coordin node monitor effect hotlin collect accur meaning statist oper number type report receiv action result statist compar member state hotlin network ensur coverag exchang report major type illeg content concern extend area child pornographi mechan expertis requir deal area racist content involv type node deal issu financi administr resourc programm limit node necessarili receiv fund concentr reinforc role coordin node area action tackl unwant harm content addit action fight illeg content sourc user respons adult user minor technic tool access tool promot order enabl user make decis deal unwant harm content user empower fund provid increas inform perform effect filter softwar servic user make inform choic user organis scientif research institut valuabl partner effort rate system qualiti label combin filter technolog enabl user select content receiv provid european parent educ inform make decis accord cultur linguist valu take account result previou project fund project aim adapt rate system qualiti label account converg telecommun audio visual media inform technolog regulatori initi back reliabl label servic assess accuraci rate label work need encourag rate system qualiti label content provid desir account safe children develop technolog deal consequ technolog devis safeti end user criterion account technic commerci consider foster exchang view child welfar specialist technic expert account fact product develop onlin world intend children programm provid fund technolog measur meet user enabl limit amount unwant harm content manag unwant spam receiv includ assess effect filter technolog provid inform public clear simpl facilit comparison facilit coordin exchang inform practic effect wai tackl unwant harm content increas content rate qualiti site label content provid adapt content rate label account avail content deliveri mechan converg contribut access filter technolog notabl languag adequ cover market technolog safeguard privaci pursuant direct ec ec technolog measur enhanc privaci encourag activ action fulli account provis council framework decis jha februari attack inform system implement action close coordin action promot safer environ regulatori action awar rais inform public deal unwant harm content action promot safer environ fulli function system regul essenti element limit flow unwant harm illeg content regul involv number compon consult represent parti concern code conduct nation bodi facilit cooper commun level nation evalu regul framework continu commun work area encourag european internet onlin technolog industri implement code conduct safer internet forum develop safer internet action plan discuss forum includ repres industri law enforc author polici maker user organis parent teacher organis child protect group consum protect bodi civil digit right organis provid platform nation regulatori regulatori bodi exchang experi opportun discuss wai industri contribut fight illeg content safer internet forum provid focal point discuss expert level platform drive consensu input conclus recommend guidelin relev nation european channel safer internet forum span action facilit discuss stimul action relev illeg unwant harm content consist plenari session specif issu work group clear object deadlin meet place actor area includ govern agenc programm standard bodi industri servic commiss user organis parent teacher organis child protect group consum protect bodi civil digit right organis forum provid opportun peopl activ nation european level involv member state programm initi exchang view inform experi safer internet forum exchang inform cooper relev organis activ relat area network inform secur safer internet forum specif object stimul network structur member state develop link regulatori bodi europ stimul consensu regul issu qualiti rate websit cross media content rate rate filter techniqu extend form content onlin game form access mobil phone encourag servic provid draw code conduct issu handl notic procedur transpar conscienti manner inform user safer internet exist hotlin report illeg content promot research effect rate project filter technolog user organis scientif research institut valuabl partner effort result find ongo complet project fund programm feed process provid open platform forum rais level awar attract involv candid countri countri provid intern arena address global problem ensur kei associ user organis parent teacher organis child protect group consum protect bodi civil digit right organis industri public bodi awar consult contribut safer initi commun internation particip safer internet forum open interest parti commun candid countri intern cooper enhanc round tabl link forum order ensur regular dialogu practic code conduct regul qualiti rate commiss ensur synergi relat fora similar initi fulli exploit call tender organis order provid secretariat support safer internet forum includ subject field expert suggest theme studi prepar work paper moder discuss record conclus type activ attract financi support commun level instanc includ regulatori project devis cross border code conduct advic assist provid ensur cooper commun level network bodi member state candid countri systemat review report relev legal regulatori issu develop method assess certif regul provid practic assist countri wish set regulatori bodi expand link regulatori bodi europ action awar rais awar rais action address rang categori illeg unwant harm content includ content consid unsuit children racist xenophob content account relat issu consum protect data protect inform network secur virus spam deal content distribut world wide web form interact inform commun brought rapid spread internet mobil telephoni peer peer servic broadband video instant messag chatroom commiss continu step encourag cost effect mean distribut inform larg number user notabl multipli organis electron dissemin channel reach intend target group commiss mass media distribut inform materi school internet café programm provid support bodi select open call propos act awar rais node member state candid countri carri awar rais action programm close cooper relev actor nation region local level european ad provid coordin node liais close node ensur practic exchang bodi seek act awar rais node show strong support nation author clear mandat educ public safer internet onlin technolog media inform literaci financi resourc implement mandat awar rais node expect devis cohes hard hit target awar rais campaign media take account practic experi countri establish maintain partnership formal inform kei player govern agenc press media group isp associ user organis educ stakehold action countri relat safer internet onlin technolog promot dialogu exchang inform notabl stakehold educ technolog field cooper work area relat programm wider field media inform literaci consum protect inform user european filter softwar servic hotlin regul scheme activ cooper nation node european network exchang inform practic particip meet design implement european approach adapt nation linguist cultur prefer provid pool expertis technic assist start awar rais node node quot adopt quot experienc node ensur maximum cooper effect coordin node fund provid logist infrastructur support node member state ensur european level visibl good commun exchang experi lesson learnt appli ongo basi instanc adapt materi rais public awar coordin node provid effect commun ensur inform practic exchang network provid train safer internet onlin technolog staff awar rais node train trainer provid technic assist candid countri wish set awar rais action coordin provis awar rais node expertis technic assist start awar rais node propos indic manag collect analysi exchang statist inform awar rais activ assess impact provid infrastructur singl comprehens transnat repositori web portal relev inform awar rais research resourc localis content local subsit includ new snippet articl monthli newslett languag provid visibl safer internet forum activ expand link awar rais activ europ particip safer internet forum relev event coordin input feedback awar rais network research carri compar basi peopl children onlin technolog action commun level instanc includ support specif child friendli internet servic award awar rais activ year direct ec european parliament council octob protect individu regard process person data free movement data oj direct amend regul ec oj oj indic guidelin implement nation level regul framework protect minor human digniti onlin audiovisu inform servic recommend ec annex ii indic breakdown expenditur fight illeg content tackl unwant harm content promot safer environ awar rais annex iii mean implement programm commiss implement programm accord technic content annex programm execut indirect action compris share cost action pilot project practic action ad hoc project area relev programm nclude project demonstr practic involv innov exist technolog ii network network bring varieti stakehold ensur action european union facilit coordin activ transfer knowledg link practic action iii appli europ wide research carri compar basi peopl children onlin technolog commun fund exce cost project public sector bodi reimburs basi addit cost accompani measur accompani measur contribut implement programm prepar futur activ benchmark opinion survei produc reliabl data safer internet onlin technolog member state collect compar methodolog ii technic assess technolog filter design promot safer internet onlin technolog assess account technolog enhanc privaci iii studi support programm action includ regul work safer internet forum prepar futur activ iv prize competit practic exchang inform confer seminar workshop meet manag cluster activ vi dissemin inform commun activ measur devot commercialis product process servic market activ sale promot exclud select share cost action base call propos publish commiss internet site accord financi provis forc applic commun support provid financi plan list compon fund project includ financi support request commun request grant support sourc accompani measur implement call tender accord financi provis forc\n",
      "\n",
      "Answer:action programme, child protection, community financing, information policy, internet, public awareness campaign\n"
     ]
    },
    {
     "ename": "TypeError",
     "evalue": "DataCollatorForLanguageModeling.__init__() got an unexpected keyword argument 'max_length'",
     "output_type": "error",
     "traceback": [
      "\u001b[0;31m---------------------------------------------------------------------------\u001b[0m",
      "\u001b[0;31mTypeError\u001b[0m                                 Traceback (most recent call last)",
      "Cell \u001b[0;32mIn[4], line 7\u001b[0m\n\u001b[1;32m      4\u001b[0m dataset \u001b[38;5;241m=\u001b[39m trainer\u001b[38;5;241m.\u001b[39mload_dataset()\n\u001b[1;32m      5\u001b[0m \u001b[38;5;28mprint\u001b[39m(\u001b[38;5;124m\"\u001b[39m\u001b[38;5;124mDataset loaded successfully\u001b[39m\u001b[38;5;124m\"\u001b[39m)\n\u001b[0;32m----> 7\u001b[0m \u001b[43mtrainer\u001b[49m\u001b[38;5;241;43m.\u001b[39;49m\u001b[43mtrain\u001b[49m\u001b[43m(\u001b[49m\u001b[43mdataset\u001b[49m\u001b[38;5;241;43m=\u001b[39;49m\u001b[43mdataset\u001b[49m\u001b[43m)\u001b[49m\n\u001b[1;32m      8\u001b[0m \u001b[38;5;28mprint\u001b[39m(\u001b[38;5;124m\"\u001b[39m\u001b[38;5;124mTraining completed successfully\u001b[39m\u001b[38;5;124m\"\u001b[39m)\n\u001b[1;32m      9\u001b[0m \u001b[38;5;66;03m# 预测\u001b[39;00m\n",
      "File \u001b[0;32m/workspace/xrmodel/src/sfttrainer.py:128\u001b[0m, in \u001b[0;36mSft_trainer.train\u001b[0;34m(self, dataset)\u001b[0m\n\u001b[1;32m    125\u001b[0m \u001b[38;5;28mprint\u001b[39m(\u001b[38;5;124m\"\u001b[39m\u001b[38;5;124msample[\u001b[39m\u001b[38;5;124m'\u001b[39m\u001b[38;5;124mtext\u001b[39m\u001b[38;5;124m'\u001b[39m\u001b[38;5;124m]:\u001b[39m\u001b[38;5;124m\"\u001b[39m, sample[\u001b[38;5;124m'\u001b[39m\u001b[38;5;124mtext\u001b[39m\u001b[38;5;124m'\u001b[39m])\n\u001b[1;32m    126\u001b[0m \u001b[38;5;66;03m# 数据 collator\u001b[39;00m\n\u001b[1;32m    127\u001b[0m \u001b[38;5;66;03m#collator = DebugCollator(tokenizer=self.tokenizer, instruction_template=\"Summarize this paragraph by keyphrases: {document}\\n\", response_template=\"Answer:\")\u001b[39;00m\n\u001b[0;32m--> 128\u001b[0m collator \u001b[38;5;241m=\u001b[39m \u001b[43mDataCollatorForCompletionOnlyLM\u001b[49m\u001b[43m(\u001b[49m\n\u001b[1;32m    129\u001b[0m \u001b[43m    \u001b[49m\u001b[43mtokenizer\u001b[49m\u001b[38;5;241;43m=\u001b[39;49m\u001b[38;5;28;43mself\u001b[39;49m\u001b[38;5;241;43m.\u001b[39;49m\u001b[43mtokenizer\u001b[49m\u001b[43m,\u001b[49m\n\u001b[1;32m    130\u001b[0m \u001b[43m    \u001b[49m\u001b[43mmax_length\u001b[49m\u001b[38;5;241;43m=\u001b[39;49m\u001b[38;5;28;43mself\u001b[39;49m\u001b[38;5;241;43m.\u001b[39;49m\u001b[43mconfig\u001b[49m\u001b[38;5;241;43m.\u001b[39;49m\u001b[43mmax_length\u001b[49m\u001b[43m,\u001b[49m\n\u001b[1;32m    131\u001b[0m \u001b[43m    \u001b[49m\u001b[38;5;66;43;03m#max_length=self.config.max_length,\u001b[39;49;00m\n\u001b[1;32m    132\u001b[0m \u001b[43m    \u001b[49m\u001b[43mreturn_tensors\u001b[49m\u001b[38;5;241;43m=\u001b[39;49m\u001b[38;5;124;43m\"\u001b[39;49m\u001b[38;5;124;43mpt\u001b[39;49m\u001b[38;5;124;43m\"\u001b[39;49m\u001b[43m,\u001b[49m\n\u001b[1;32m    133\u001b[0m \u001b[43m    \u001b[49m\u001b[43mresponse_template\u001b[49m\u001b[38;5;241;43m=\u001b[39;49m\u001b[38;5;124;43m\"\u001b[39;49m\u001b[38;5;124;43mAnswer:\u001b[39;49m\u001b[38;5;124;43m\"\u001b[39;49m\n\u001b[1;32m    134\u001b[0m \u001b[43m\u001b[49m\u001b[43m)\u001b[49m\n\u001b[1;32m    135\u001b[0m \u001b[38;5;28mself\u001b[39m\u001b[38;5;241m.\u001b[39msetup_lora()  \u001b[38;5;66;03m# 设置LoRA配置\u001b[39;00m\n\u001b[1;32m    136\u001b[0m \u001b[38;5;28mself\u001b[39m\u001b[38;5;241m.\u001b[39msetup_quantization()  \u001b[38;5;66;03m# 设置量化配置\u001b[39;00m\n",
      "File \u001b[0;32m~/.pyenv/versions/3.10.13/lib/python3.10/site-packages/trl/trainer/utils.py:143\u001b[0m, in \u001b[0;36mDataCollatorForCompletionOnlyLM.__init__\u001b[0;34m(self, response_template, instruction_template, mlm, ignore_index, *args, **kwargs)\u001b[0m\n\u001b[1;32m    134\u001b[0m \u001b[38;5;28;01mdef\u001b[39;00m\u001b[38;5;250m \u001b[39m\u001b[38;5;21m__init__\u001b[39m(\n\u001b[1;32m    135\u001b[0m     \u001b[38;5;28mself\u001b[39m,\n\u001b[1;32m    136\u001b[0m     response_template: Union[\u001b[38;5;28mstr\u001b[39m, List[\u001b[38;5;28mint\u001b[39m]],\n\u001b[0;32m   (...)\u001b[0m\n\u001b[1;32m    141\u001b[0m     \u001b[38;5;241m*\u001b[39m\u001b[38;5;241m*\u001b[39mkwargs,\n\u001b[1;32m    142\u001b[0m ):\n\u001b[0;32m--> 143\u001b[0m     \u001b[38;5;28;43msuper\u001b[39;49m\u001b[43m(\u001b[49m\u001b[43m)\u001b[49m\u001b[38;5;241;43m.\u001b[39;49m\u001b[38;5;21;43m__init__\u001b[39;49m\u001b[43m(\u001b[49m\u001b[38;5;241;43m*\u001b[39;49m\u001b[43margs\u001b[49m\u001b[43m,\u001b[49m\u001b[43m \u001b[49m\u001b[43mmlm\u001b[49m\u001b[38;5;241;43m=\u001b[39;49m\u001b[43mmlm\u001b[49m\u001b[43m,\u001b[49m\u001b[43m \u001b[49m\u001b[38;5;241;43m*\u001b[39;49m\u001b[38;5;241;43m*\u001b[39;49m\u001b[43mkwargs\u001b[49m\u001b[43m)\u001b[49m\n\u001b[1;32m    145\u001b[0m     \u001b[38;5;28mself\u001b[39m\u001b[38;5;241m.\u001b[39minstruction_template \u001b[38;5;241m=\u001b[39m instruction_template\n\u001b[1;32m    146\u001b[0m     \u001b[38;5;28;01mif\u001b[39;00m \u001b[38;5;28misinstance\u001b[39m(instruction_template, \u001b[38;5;28mstr\u001b[39m):\n\u001b[1;32m    147\u001b[0m         \u001b[38;5;66;03m# The user provides a string, must tokenize\u001b[39;00m\n",
      "\u001b[0;31mTypeError\u001b[0m: DataCollatorForLanguageModeling.__init__() got an unexpected keyword argument 'max_length'"
     ]
    }
   ],
   "source": [
    "trainer = Sft_trainer(model_config, data_dir=data_dir)\n",
    "print(\"Starting SFT training...\")\n",
    "# 1. 加载数据集\n",
    "dataset = trainer.load_dataset()\n",
    "print(\"Dataset loaded successfully\")\n",
    "\n",
    "trainer.train(dataset=dataset)\n",
    "print(\"Training completed successfully\")\n",
    "# 预测\n",
    "print(\"Starting batch generation...\")\n",
    "trainer.batch_generate(\n",
    "    test_dataset=dataset[\"test\"],\n",
    "    prompt=model_config.prompt_template,\n",
    "    max_new_tokens=model_config.max_new_tokens,\n",
    "    output_dir=data_dir)"
   ]
  }
 ],
 "metadata": {
  "kernelspec": {
   "display_name": "Python 3",
   "language": "python",
   "name": "python3"
  },
  "language_info": {
   "codemirror_mode": {
    "name": "ipython",
    "version": 3
   },
   "file_extension": ".py",
   "mimetype": "text/x-python",
   "name": "python",
   "nbconvert_exporter": "python",
   "pygments_lexer": "ipython3",
   "version": "3.10.13"
  }
 },
 "nbformat": 4,
 "nbformat_minor": 5
}
