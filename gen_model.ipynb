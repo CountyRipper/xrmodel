{
 "cells": [
  {
   "cell_type": "code",
   "execution_count": null,
   "id": "12c1ef86",
   "metadata": {},
   "outputs": [],
   "source": [
    "import sys\n",
    "sys.path.insert(0, './src')  # 或者绝对路径：/full/path/to/your_project\n",
    "from src.xmcdata import *\n",
    "from gen_model import *"
   ]
  },
  {
   "cell_type": "code",
   "execution_count": null,
   "id": "f7bebd2d",
   "metadata": {},
   "outputs": [],
   "source": [
    "# Example configurations for different models\n",
    "data_dir = \"./xmc-base/\"\n",
    "dataset_name = \"eurlex-4k\"\n",
    "dataset_dir = data_dir+dataset_name\n",
    "model_names = [\n",
    "    \"google/flan-t5-base\",  # T5-base\n",
    "    \"google/flan-t5-large\",  # T5-large\n",
    "    \"google/flan-t5-xl\",     # T5-xl\n",
    "    \"facebook/bart-base\",    # BART\n",
    "    \"google/pegasus-xsum\"    # Pegasus\n",
    "]\n",
    "# T5-FLAN Configuration\n",
    "t5_config = T2TConfig(\n",
    "    model_name=model_names[0],  # Change to other models as needed\n",
    "    dataset_dir=dataset_dir,\n",
    "    output_dir=data_dir+\"outputs/\"+model_names[0].split(\"/\")[-1],\n",
    "    prompt=\"Summarize this document by keyphrases:\",\n",
    "    #task_prefix=\"classify:\",  # T5-style task prefix\n",
    "    num_epochs=3,\n",
    "    batch_size=4,\n",
    "    max_input_length=512,\n",
    "    max_output_length=128,\n",
    "    strict_tokenization=True\n",
    ")\n",
    "\n",
    "# BART Configuration\n",
    "bart_config = T2TConfig(\n",
    "    model_name=model_names[3],  # Change to other models as needed\n",
    "    dataset_dir=dataset_dir,\n",
    "    output_dir=data_dir+\"outputs/\"+model_names[3].split(\"/\")[-1],\n",
    "    prompt=\"Summarize this document by keyphrases:\",\n",
    "    num_epochs=3,\n",
    "    batch_size=4,\n",
    "    max_input_length=512,\n",
    "    max_output_length=128,\n",
    "    strict_tokenization=True  # Apply T5-style strict standards to BART\n",
    ")\n",
    "\n",
    "# Pegasus Configuration\n",
    "pegasus_config = T2TConfig(\n",
    "    model_name=model_names[4],  # Change to other models as needed\n",
    "    dataset_dir=dataset_dir,\n",
    "    output_dir=data_dir+\"outputs/\"+model_names[4].split(\"/\")[-1],\n",
    "    prompt=\"Summarize this document by keyphrases:\",\n",
    "    num_epochs=3,\n",
    "    batch_size=4,  # Smaller batch for Pegasus\n",
    "    max_input_length=512,\n",
    "    max_output_length=128,\n",
    "    strict_tokenization=True  # Apply T5-style strict standards to Pegasus\n",
    ")"
   ]
  },
  {
   "cell_type": "code",
   "execution_count": null,
   "id": "69ccc1a5",
   "metadata": {},
   "outputs": [],
   "source": [
    "# Choose configuration\n",
    "config = t5_config  # Change to bart_config or pegasus_config as needed\n",
    "\n",
    "# Initialize model\n",
    "model = UniversalT2TModel(config)\n",
    "\n",
    "# Save configuration\n",
    "model.save_config()\n",
    "\n",
    "# Train the model (uncomment to train)\n",
    "model.train()"
   ]
  },
  {
   "cell_type": "code",
   "execution_count": null,
   "id": "906485aa",
   "metadata": {},
   "outputs": [],
   "source": [
    "# Generate predictions for test set\n",
    "print(\"Generating predictions with T5-style strict processing...\")\n",
    "predictions = model.predict_test_set(output_path=dataset_dir)\n",
    "\n",
    "print(f\"Generated {len(predictions)} predictions using {model.tokenizer.model_type.upper()}\")\n",
    "print(\"Sample predictions:\")\n",
    "for i, pred in enumerate(predictions[:3]):\n",
    "    print(f\"{i+1}: {pred}\")"
   ]
  }
 ],
 "metadata": {
  "kernelspec": {
   "display_name": "Python 3",
   "language": "python",
   "name": "python3"
  },
  "language_info": {
   "name": "python",
   "version": "3.10.12"
  }
 },
 "nbformat": 4,
 "nbformat_minor": 5
}
