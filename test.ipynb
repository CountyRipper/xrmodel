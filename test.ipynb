{
 "cells": [
  {
   "cell_type": "code",
   "execution_count": 1,
   "id": "7023f29d",
   "metadata": {},
   "outputs": [
    {
     "name": "stderr",
     "output_type": "stream",
     "text": [
      "/root/miniconda3/envs/kg/lib/python3.10/site-packages/tqdm/auto.py:21: TqdmWarning: IProgress not found. Please update jupyter and ipywidgets. See https://ipywidgets.readthedocs.io/en/stable/user_install.html\n",
      "  from .autonotebook import tqdm as notebook_tqdm\n"
     ]
    }
   ],
   "source": [
    "from src.xmcdata import *\n",
    "from src.smat_util import *"
   ]
  },
  {
   "cell_type": "code",
   "execution_count": null,
   "id": "ad9ba626",
   "metadata": {
    "vscode": {
     "languageId": "shellscript"
    }
   },
   "outputs": [
    {
     "ename": "SyntaxError",
     "evalue": "invalid syntax (3103864652.py, line 2)",
     "output_type": "error",
     "traceback": [
      "\u001b[0;36m  Cell \u001b[0;32mIn[17], line 2\u001b[0;36m\u001b[0m\n\u001b[0;31m    pipreqs ./ --force\u001b[0m\n\u001b[0m             ^\u001b[0m\n\u001b[0;31mSyntaxError\u001b[0m\u001b[0;31m:\u001b[0m invalid syntax\n"
     ]
    }
   ],
   "source": [
    "#pip install Path"
   ]
  },
  {
   "cell_type": "code",
   "execution_count": 2,
   "id": "8ae49a96",
   "metadata": {},
   "outputs": [],
   "source": [
    "data_name = \"eurlex-4k\"\n",
    "data_dir = \"./xmc-base/\"+ data_name"
   ]
  },
  {
   "cell_type": "code",
   "execution_count": 3,
   "id": "c88fd63b",
   "metadata": {},
   "outputs": [],
   "source": [
    "Y_train = load_sparse_matrix(data_dir + \"/Y.trn.npz\")\n",
    "X_trn_feat = load_sparse_matrix(data_dir + \"/tfidf-attnxml/X.trn.npz\")"
   ]
  },
  {
   "cell_type": "code",
   "execution_count": 4,
   "id": "276c9a2f",
   "metadata": {},
   "outputs": [
    {
     "data": {
      "text/plain": [
       "array([[0., 0., 0., ..., 0., 0., 0.]], shape=(1, 3956), dtype=float32)"
      ]
     },
     "execution_count": 4,
     "metadata": {},
     "output_type": "execute_result"
    }
   ],
   "source": [
    "Y_train[0].toarray()\n",
    "Y_train.getrow(1).toarray()"
   ]
  },
  {
   "cell_type": "code",
   "execution_count": null,
   "id": "1d5c655a",
   "metadata": {},
   "outputs": [],
   "source": [
    "x_f = X_trn_feat[0].toarray()\n",
    "for idx, v in enumerate(x_f[0]):\n",
    "    if v == 0:\n",
    "        print(idx)"
   ]
  },
  {
   "cell_type": "code",
   "execution_count": 9,
   "id": "e1f56e6c",
   "metadata": {},
   "outputs": [],
   "source": [
    "label_map = load_label_text_map(data_dir + \"/output-items.txt\")\n",
    "Y_trn_text, Y_trn_idx = csr_id_to_text(Y_train,label_map)"
   ]
  },
  {
   "cell_type": "code",
   "execution_count": 10,
   "id": "76f56740",
   "metadata": {},
   "outputs": [
    {
     "data": {
      "text/plain": [
       "[49, 551, 666, 1920, 2016, 2972]"
      ]
     },
     "execution_count": 10,
     "metadata": {},
     "output_type": "execute_result"
    }
   ],
   "source": [
    "Y_trn_text[0]\n",
    "Y_trn_idx[0]"
   ]
  }
 ],
 "metadata": {
  "kernelspec": {
   "display_name": "kg",
   "language": "python",
   "name": "python3"
  },
  "language_info": {
   "codemirror_mode": {
    "name": "ipython",
    "version": 3
   },
   "file_extension": ".py",
   "mimetype": "text/x-python",
   "name": "python",
   "nbconvert_exporter": "python",
   "pygments_lexer": "ipython3",
   "version": "3.10.18"
  }
 },
 "nbformat": 4,
 "nbformat_minor": 5
}
